{
 "cells": [
  {
   "cell_type": "markdown",
   "metadata": {
    "tags": []
   },
   "source": [
    "#### **Quantum Explorers 2023**\n",
    "---\n",
    "# Time Traveler バッジ - 量子エラー訂正と緩和 モジュール\n",
    "#### **発展教材 - 量子エラー緩和手法と実装**\n",
    " [IBM Quantum Challenge Fall 2022, Lab 1 (和訳)](https://github.com/qiskit-community/ibm-quantum-challenge-fall-22/blob/main/content/lab-1/lab1-ja.ipynb) より作成しました。"
   ]
  },
  {
   "cell_type": "markdown",
   "metadata": {},
   "source": [
    "### T-REX\n",
    "\n",
    "T-REXは、 **Twirled Readout Error eXtinction** の略で、ゲートを\"twirling\"(トワリング、何回もくるくると作用)させる実装法です。ノイズを完全な回路実装の上に乗っている余分な確率的ゲート集合と見なすと、回路を実行するたびに、このノイズゲートの集合と「トワリング・セット」と呼ばれるゲートの集合からランダムに選ばれたゲートを結合させるという意味でトワリングと呼ぶことができます。このゲート集合をパウリ演算子の集合に選ぶと、「パウリ・トワリング」と呼ばれ、これは最もよく使われるトワリング・テクニックの1つです。\n",
    "\n",
    "パウリ・トワリングはランダム化コンパイルの一種で、エンタングルゲートの前後にパウリゲート（I、X、Y、Z）のペアを挿入し、全体のユニタリーは同じままで、実装の仕方が異なるようにするものです。これにより、コヒーレントな誤差を確率的な誤差に変換し、十分な平均化によって除去することができます。これは、平均化の効果を得るために何度も行われます。注意：現在、すべての誤差を打ち消すのに十分な基底セットを使用しない場合があります。**[[1]](https://github.com/qiskit-research/qiskit-research/blob/main/docs/getting_started.ipynb)**\n",
    "\n",
    "パウリ・トワリングについて詳しくは、[Nick Knows](https://www.youtube.com/watch?v=4MLHvmmpSQ8) のビデオをご覧ください。\n",
    "\n",
    "options で `resilience_level=1` を設定すると、 `Estimator` 上でT-REXを有効にすることができます。 `resilience_level` が指定されていない場合、T-REXは実行時にデフォルトでアクティブになります。Qiskit Runtimeでは、T-REXを選択すると実行ごとに結果が変わることがあります。これは、トワリングに選択されるゲートセットが毎回異なるためで、結果がランダムな特性を持つ一因となっています。\n",
    "\n",
    "T-REXについての詳細は [こちら](https://qiskit.org/ecosystem/ibm-runtime/locale/ja_JP/tutorials/Error-Suppression-and-Error-Mitigation.html#%E3%83%88%E3%83%AF%E3%82%A4%E3%83%AB%E8%AA%AD%E3%81%BF%E5%87%BA%E3%81%97%E3%82%A8%E3%83%A9%E3%83%BC%E6%B6%88%E5%8E%BB%E6%B3%95) をご覧ください。"
   ]
  },
  {
   "cell_type": "markdown",
   "metadata": {
    "tags": []
   },
   "source": [
    "### デジタルZNE（ゼロノイズ外挿）\n",
    "\n",
    "デジタルZNE（Zero Noise Extrapolation）は、ノイズの多い量子コンピューターの誤差を、量子リソースを追加することなく軽減するための一般的な手法です。量子コンピューターのプログラムを変更し、異なるノイズレベルで計算を実行します。計算結果は、ノイズのない状態での推定値に外挿されます。\n",
    "\n",
    "デジタルZNEでは、適切な値を求めるために、まず上記で説明したようにノイズをスケーリングします。スケーリングの方法には、アナログとデジタルの2種類があります。それぞれの方法の詳しい説明は下記で確認できます。どちらの方式が良いかは、まだ研究課題です。ここでのデジタルな方法は、物理的な量子パルスには作用させない手法です。\n",
    "\n",
    "- パルス波の引き伸ばし（アナログ）： 同じパルス波を物理的により大きな時間に沿って引き伸ばしたものを回路に適用します。原理的には同じ回路だが、実効ノイズが大きくなります。 **[[2]](https://arxiv.org/pdf/1612.02058.pdf)**\n",
    "- ローカル・フォールディング（デジタル）：入力回路をより多くのゲートでコンパイルします。各ゲート $G$ を $G$, $G^\\dagger$, $G$ に置き換えます。シミュレーターでは回路に何もしませんが、実機を使用すると、ノイズが増加していくのがわかります。\n",
    "- グローバル・フォールディング（デジタル）：ローカル・フォールディングと同じ操作ですが、このトリックを回路全体に適用します。\n",
    "\n",
    "ノイズの多い期待値をゼロノイズ限界まで外挿する。これは一般的な回帰法で行われます。\n",
    "\n",
    "デジタルZNE についての詳細は [こちら](https://qiskit.org/ecosystem/ibm-runtime/locale/ja_JP/tutorials/Error-Suppression-and-Error-Mitigation.html#%E3%82%BC%E3%83%AD%E3%83%BB%E3%83%8E%E3%82%A4%E3%82%BA%E5%A4%96%E6%8C%BF) をご覧ください。\n"
   ]
  },
  {
   "cell_type": "markdown",
   "metadata": {},
   "source": [
    "### PEC\n",
    "\n",
    "PEC（Probabilistic Error Cancellation、確率的エラーキャンセル）は、相関ノイズを捕らえることができるスパースノイズモデルを学習し、反転させることによってエラーを軽減するものです。PECは学習されたノイズモデルが緩和時に実際のノイズモデルを忠実に表す限り、バイアスのない期待値の推定値を返します。\n",
    "\n",
    "PECは、学習したノイズを反転させる効果を模倣するために準確率法を使用します。これには、ユーザーの元の回路に関連するランダムな回路ファミリーからのサンプリングが必要です。PECを適用すると、入力回路と特性評価回路の両方で回路あたりのサンプル数も増やさない限り、返される期待値の推定値のばらつきが大きくなります。このばらつきに対処するために必要なサンプルの量は、緩和された回路のノイズ強度に応じて指数関数的に増加します。**[[3]](\n",
    ")**\n",
    "\n",
    "PEC についての詳細は [こちら](https://qiskit.org/ecosystem/ibm-runtime/locale/ja_JP/tutorials/Error-Suppression-and-Error-Mitigation.html#%E7%A2%BA%E7%8E%87%E7%9A%84%E3%82%A8%E3%83%A9%E3%83%BC%E3%83%BB%E3%82%AD%E3%83%A3%E3%83%B3%E3%82%BB%E3%83%AB) をご覧ください。\n"
   ]
  },
  {
   "cell_type": "markdown",
   "metadata": {
    "tags": []
   },
   "source": [
    "<div class=\"alert alert-block alert-info\">\n",
    "    \n",
    "<h3>量子エラー緩和技術の実装</h3>\n",
    "\n",
    "Qiskit runtime の resilience level は、エラーに対する回復力をどの程度構築するか、つまりエラー緩和のレベルを指定するための指標です。レベルが高いほど、処理時間が長くなる代わりに、より正確な結果が生成されます。Qiskit runtime でより高いレベルの弾力性を有効にすることができますが、 **この機能は現在ベータ版** であり、期待通りの結果が得られない可能性があることに注意してください！以下のコードブロックの指示に従って自由に試してみてください！\n",
    "\n",
    "以下のリソースが便利です：\n",
    "\n",
    "- [Qiskit ドキュメント: Options](https://qiskit.org/ecosystem/ibm-runtime/stubs/qiskit_ibm_runtime.options.Options.html)\n",
    "- [エラー緩和の設定](https://qiskit.org/ecosystem/ibm-runtime/locale/ja_JP/how_to/error-mitigation.html)"
   ]
  },
  {
   "cell_type": "code",
   "execution_count": null,
   "metadata": {
    "tags": []
   },
   "outputs": [],
   "source": [
    "#import required libraries\n",
    "import time\n",
    "import numpy as np\n",
    "from qiskit import *\n",
    "from qiskit.circuit import Parameter\n",
    "from qiskit.quantum_info import Statevector, Pauli, SparsePauliOp\n",
    "from qiskit.circuit.library import RealAmplitudes\n",
    "import matplotlib.pyplot as plt\n",
    "import matplotlib.ticker as tck\n",
    "from qiskit.tools.visualization import plot_histogram\n",
    "from qiskit_ibm_runtime import QiskitRuntimeService, Session, Options, Sampler, Estimator\n",
    "from qiskit.providers.fake_provider import FakeManila\n",
    "from qiskit_aer.noise import NoiseModel\n",
    "\n",
    "# Import FakeBackend\n",
    "fake_backend = FakeManila()\n",
    "noise_model = NoiseModel.from_backend(fake_backend)"
   ]
  },
  {
   "cell_type": "code",
   "execution_count": null,
   "metadata": {
    "tags": []
   },
   "outputs": [],
   "source": [
    "# Save the Runtime account credentials if you have not done so already\n",
    "# If you need to overwrite the account info, please add `overwrite=True`\n",
    "# QiskitRuntimeService.save_account(channel='ibm_quantum', token='my_token', overwrite=True)\n",
    "\n",
    "service = QiskitRuntimeService(channel=\"ibm_quantum\", instance='ibm-q/open/main')\n",
    "\n",
    "backend = service.backends(simulator=True)[0]\n",
    "print(backend)"
   ]
  },
  {
   "cell_type": "code",
   "execution_count": null,
   "metadata": {
    "tags": []
   },
   "outputs": [],
   "source": [
    "# This is the circuit you used in the main syllabus for learning M3\n",
    "theta = Parameter('theta')\n",
    "\n",
    "qc = QuantumCircuit(2)\n",
    "qc.x(1)\n",
    "qc.h(0)\n",
    "qc.cp(theta,0,1)\n",
    "qc.h(0)\n",
    "\n",
    "qc.draw()"
   ]
  },
  {
   "cell_type": "markdown",
   "metadata": {},
   "source": [
    "次のセルのコードにあるように、 resilience level を値 `[1, 2, 3]` のいずれかに変更し、Estimator を実行して、resilience level に応じて出力がどのように変化するかを確認してください。"
   ]
  },
  {
   "cell_type": "code",
   "execution_count": null,
   "metadata": {
    "tags": []
   },
   "outputs": [],
   "source": [
    "phases = np.linspace(0, 2*np.pi, 50)\n",
    "individual_phases = [[ph] for ph in phases]\n",
    "ZZ = SparsePauliOp.from_list([(\"ZZ\", 1)])\n",
    "\n",
    "options = Options(\n",
    "    simulator={\n",
    "        \"noise_model\": noise_model,\n",
    "        \"seed_simulator\": 42,\n",
    "    },  \n",
    "    resilience_level=0\n",
    ")\n",
    "\n",
    "options_with_em = Options(\n",
    "    simulator={\n",
    "        \"noise_model\": noise_model,\n",
    "        \"seed_simulator\": 42,\n",
    "    },  \n",
    "    resilience_level=1 ### Change the value in this line ###\n",
    ")"
   ]
  },
  {
   "cell_type": "code",
   "execution_count": null,
   "metadata": {
    "tags": []
   },
   "outputs": [],
   "source": [
    "with Session(service=service, backend=backend):    \n",
    "    estimator = Estimator(options=options)\n",
    "    job = estimator.run(circuits=[qc]*len(phases), parameter_values=individual_phases, observables=[ZZ]*len(phases))\n",
    "    param_results = job.result()\n",
    "    exp_values = param_results.values\n",
    "    \n",
    "    estimator = Estimator(options=options_with_em)\n",
    "    job = estimator.run(circuits=[qc]*len(phases), parameter_values=individual_phases, observables=[ZZ]*len(phases))\n",
    "    param_results = job.result()\n",
    "    exp_values_with_em = param_results.values"
   ]
  },
  {
   "cell_type": "code",
   "execution_count": null,
   "metadata": {
    "tags": []
   },
   "outputs": [],
   "source": [
    "plt.plot(phases, exp_values, 'o', label='noisy')\n",
    "plt.plot(phases, exp_values_with_em, 'o', label='mitigated')\n",
    "plt.plot(phases, 2*np.sin(phases/2,)**2-1, label='theory')\n",
    "plt.xlabel('Phase')\n",
    "plt.ylabel('Expectation')\n",
    "plt.legend();"
   ]
  },
  {
   "cell_type": "markdown",
   "metadata": {},
   "source": [
    "<div class=\"alert alert-block alert-info\">\n",
    "    \n",
    "<h3>オプション: 実機のバックエンドでの実行</h3>\n",
    "\n",
    "上記のコードを **実機の量子バックエンド** で自由にテストして、QPU で実行したときに結果がどのように変化するかを確認してください。 Quantum Explorer の場合、`hub`, `group`, `project` が割り当てられています。 以下のセルを自由に設定して、結果を試してみてください。\n",
    "    \n",
    "</div> "
   ]
  },
  {
   "cell_type": "code",
   "execution_count": null,
   "metadata": {
    "tags": []
   },
   "outputs": [],
   "source": [
    "# Get the least-busy backend, this step may take a while\n",
    "real_backend = service.least_busy(min_num_qubits=2, simulator=False)\n",
    "\n",
    "print(f\"The least busy backend is {real_backend.name}.\")"
   ]
  },
  {
   "cell_type": "markdown",
   "metadata": {},
   "source": [
    "`Estimator` で実機のバックエンドを使用します:"
   ]
  },
  {
   "cell_type": "code",
   "execution_count": null,
   "metadata": {
    "tags": []
   },
   "outputs": [],
   "source": [
    "with Session(service=service, backend=real_backend):    \n",
    "    estimator = Estimator(options=options)\n",
    "    job = estimator.run(circuits=[qc]*len(phases), parameter_values=individual_phases, observables=[ZZ]*len(phases))\n",
    "    print(f\"First job ID: {job.job_id()}\")\n",
    "    \n",
    "    estimator = Estimator(options=options_with_em)\n",
    "    job = estimator.run(circuits=[qc]*len(phases), parameter_values=individual_phases, observables=[ZZ]*len(phases))\n",
    "    print(f\"Second job ID: {job.job_id()}\")"
   ]
  },
  {
   "cell_type": "code",
   "execution_count": null,
   "metadata": {
    "tags": []
   },
   "outputs": [],
   "source": [
    "#Get job results\n",
    "job = service.job('place first job ID here')\n",
    "param_results = job.result()\n",
    "exp_values = param_results.values\n",
    "\n",
    "job_with_em = service.job('place second job ID here')\n",
    "param_results_with_em = job_with_em.result()\n",
    "exp_values_with_em = param_results_with_em.values"
   ]
  },
  {
   "cell_type": "markdown",
   "metadata": {},
   "source": [
    "Job の実行中、job を monitor できます。いずれかの実行に対して表示された job ID をコピーし、 **[ここ](https://quantum-computing.ibm.com/jobs)** の検索バーに入力するだけです。このページにアクセスするには、IBM Quantum Platform にログインしていることを確認してください。"
   ]
  },
  {
   "cell_type": "code",
   "execution_count": null,
   "metadata": {
    "tags": []
   },
   "outputs": [],
   "source": [
    "plt.plot(phases, exp_values, 'o', label='noisy')\n",
    "plt.plot(phases, exp_values_with_em, 'o', label='mitigated')\n",
    "plt.plot(phases, 2*np.sin(phases/2,)**2-1, label='theory')\n",
    "plt.xlabel('Phase')\n",
    "plt.ylabel('Expectation')\n",
    "plt.legend();"
   ]
  },
  {
   "cell_type": "markdown",
   "metadata": {},
   "source": [
    "# 参考文献\n",
    "- [1] **[Getting Started - Qiskit Research](https://github.com/qiskit-research/qiskit-research/blob/main/docs/getting_started.ipynb)**\n",
    "- [2] **[Error mitigation for short-depth quantum circuits - Kristan Temme, Sergey Bravyi and Jay M. Gambetta](https://arxiv.org/pdf/1612.02058.pdf)**\n",
    "- [3] **[Configure error mitigation](https://qiskit.org/ecosystem/ibm-runtime/locale/ja_JP/how_to/error-mitigation.html)**"
   ]
  },
  {
   "cell_type": "markdown",
   "metadata": {},
   "source": [
    "Translated and adapted by: Kifumi Numata"
   ]
  },
  {
   "cell_type": "code",
   "execution_count": 1,
   "metadata": {
    "tags": []
   },
   "outputs": [
    {
     "data": {
      "text/html": [
       "<h3>Version Information</h3><table><tr><th>Qiskit Software</th><th>Version</th></tr><tr><td><code>qiskit-terra</code></td><td>0.24.1</td></tr><tr><td><code>qiskit-aer</code></td><td>0.12.1</td></tr><tr><td><code>qiskit-ibmq-provider</code></td><td>0.20.2</td></tr><tr><td><code>qiskit</code></td><td>0.43.2</td></tr><tr><td><code>qiskit-nature</code></td><td>0.6.2</td></tr><tr><td><code>qiskit-finance</code></td><td>0.3.4</td></tr><tr><td><code>qiskit-optimization</code></td><td>0.5.0</td></tr><tr><td><code>qiskit-machine-learning</code></td><td>0.6.1</td></tr><tr><th>System information</th></tr><tr><td>Python version</td><td>3.10.8</td></tr><tr><td>Python compiler</td><td>GCC 10.4.0</td></tr><tr><td>Python build</td><td>main, Nov 22 2022 08:26:04</td></tr><tr><td>OS</td><td>Linux</td></tr><tr><td>CPUs</td><td>8</td></tr><tr><td>Memory (Gb)</td><td>31.211322784423828</td></tr><tr><td colspan='2'>Wed Jul 12 04:36:16 2023 UTC</td></tr></table>"
      ],
      "text/plain": [
       "<IPython.core.display.HTML object>"
      ]
     },
     "metadata": {},
     "output_type": "display_data"
    }
   ],
   "source": [
    "from qiskit.tools.jupyter import *\n",
    "%qiskit_version_table"
   ]
  }
 ],
 "metadata": {
  "kernelspec": {
   "display_name": "Python 3",
   "language": "python",
   "name": "python3"
  },
  "language_info": {
   "codemirror_mode": {
    "name": "ipython",
    "version": 3
   },
   "file_extension": ".py",
   "mimetype": "text/x-python",
   "name": "python",
   "nbconvert_exporter": "python",
   "pygments_lexer": "ipython3",
   "version": "3.8.5"
  },
  "vscode": {
   "interpreter": {
    "hash": "2314985414265184cbcbf39283c3ac2af8a6b2659fa88be3910ade054ec8b29d"
   }
  },
  "widgets": {
   "application/vnd.jupyter.widget-state+json": {
    "state": {
     "106f5a473c7940a7a32e5a4c36b03b26": {
      "model_module": "@jupyter-widgets/controls",
      "model_module_version": "2.0.0",
      "model_name": "HBoxModel",
      "state": {
       "children": [
        "IPY_MODEL_ecd4c505b4954dc8ab510a6d2cefe7ad",
        "IPY_MODEL_8ccacb4ee6644f1e8dfdd809fe5b28b0",
        "IPY_MODEL_1cb499addaf5456e9c7e6402d664247f",
        "IPY_MODEL_9275d435ca99492393c311f738733385",
        "IPY_MODEL_a14b92773e484d3a95f92280575d1052"
       ],
       "layout": "IPY_MODEL_63d1e1533c7647c88f5e027c7f22fc01"
      }
     },
     "18ab7cec7c994c919bda4c561a538e55": {
      "model_module": "@jupyter-widgets/controls",
      "model_module_version": "2.0.0",
      "model_name": "HTMLStyleModel",
      "state": {
       "description_width": "",
       "font_size": null,
       "text_color": null
      }
     },
     "1cb499addaf5456e9c7e6402d664247f": {
      "model_module": "@jupyter-widgets/controls",
      "model_module_version": "2.0.0",
      "model_name": "HTMLModel",
      "state": {
       "layout": "IPY_MODEL_267063972f98462b903b04e80054da8b",
       "style": "IPY_MODEL_a155f68cb75a40cc9bece01a2733f62e",
       "value": "<h5>Status</h5>"
      }
     },
     "22156f77e1eb435fae2439f275e6e1be": {
      "model_module": "@jupyter-widgets/base",
      "model_module_version": "2.0.0",
      "model_name": "LayoutModel",
      "state": {
       "width": "190px"
      }
     },
     "243eaa616bdb49fe9bfbbb687965af3e": {
      "model_module": "@jupyter-widgets/controls",
      "model_module_version": "2.0.0",
      "model_name": "HTMLStyleModel",
      "state": {
       "description_width": "",
       "font_size": null,
       "text_color": null
      }
     },
     "267063972f98462b903b04e80054da8b": {
      "model_module": "@jupyter-widgets/base",
      "model_module_version": "2.0.0",
      "model_name": "LayoutModel",
      "state": {
       "width": "95px"
      }
     },
     "2f838f75a38b4b2eaf3f2f45d1aaa6dd": {
      "model_module": "@jupyter-widgets/controls",
      "model_module_version": "2.0.0",
      "model_name": "GridBoxModel",
      "state": {
       "children": [
        "IPY_MODEL_adbeaeff15a540fd8cfb09ab242e0577"
       ],
       "layout": "IPY_MODEL_73880c531b1140aab2baba2789e4b0e4"
      }
     },
     "32a8865864e34ad29b7b83e65df1c666": {
      "model_module": "@jupyter-widgets/base",
      "model_module_version": "2.0.0",
      "model_name": "LayoutModel",
      "state": {
       "grid_area": "right",
       "padding": "0px 0px 0px 0px",
       "width": "70px"
      }
     },
     "446976232f8749aeb7d0407469ad7025": {
      "model_module": "@jupyter-widgets/controls",
      "model_module_version": "2.0.0",
      "model_name": "HTMLStyleModel",
      "state": {
       "description_width": "",
       "font_size": null,
       "text_color": null
      }
     },
     "45fb2f3111224340a6e3eadf7ce0b0c3": {
      "model_module": "@jupyter-widgets/controls",
      "model_module_version": "2.0.0",
      "model_name": "HTMLModel",
      "state": {
       "layout": "IPY_MODEL_daf43e8b5fbd4ddea15a42955b92df50",
       "style": "IPY_MODEL_446976232f8749aeb7d0407469ad7025",
       "value": "<p style='font-family: IBM Plex Sans, Arial, Helvetica, sans-serif; font-size: 20px; font-weight: medium;'>Circuit Properties</p>"
      }
     },
     "639c5f72f32e4e619ccca4608495ade7": {
      "model_module": "@jupyter-widgets/controls",
      "model_module_version": "2.0.0",
      "model_name": "ButtonStyleModel",
      "state": {
       "font_family": null,
       "font_size": null,
       "font_style": null,
       "font_variant": null,
       "font_weight": null,
       "text_color": null,
       "text_decoration": null
      }
     },
     "63d1e1533c7647c88f5e027c7f22fc01": {
      "model_module": "@jupyter-widgets/base",
      "model_module_version": "2.0.0",
      "model_name": "LayoutModel",
      "state": {
       "margin": "0px 0px 0px 37px",
       "width": "600px"
      }
     },
     "71b87bf858134484b9d93e3713fdcbb3": {
      "model_module": "@jupyter-widgets/base",
      "model_module_version": "2.0.0",
      "model_name": "LayoutModel",
      "state": {
       "width": "70px"
      }
     },
     "73880c531b1140aab2baba2789e4b0e4": {
      "model_module": "@jupyter-widgets/base",
      "model_module_version": "2.0.0",
      "model_name": "LayoutModel",
      "state": {
       "grid_template_areas": "\n                                       \". . . . right \"\n                                        ",
       "grid_template_columns": "20% 20% 20% 20% 20%",
       "width": "100%"
      }
     },
     "8ccacb4ee6644f1e8dfdd809fe5b28b0": {
      "model_module": "@jupyter-widgets/controls",
      "model_module_version": "2.0.0",
      "model_name": "HTMLModel",
      "state": {
       "layout": "IPY_MODEL_cb20ccbcd79e4c429652025bff6cae08",
       "style": "IPY_MODEL_c517d44276414ce6b0f3c1afbdc71319",
       "value": "<h5>Backend</h5>"
      }
     },
     "9275d435ca99492393c311f738733385": {
      "model_module": "@jupyter-widgets/controls",
      "model_module_version": "2.0.0",
      "model_name": "HTMLModel",
      "state": {
       "layout": "IPY_MODEL_71b87bf858134484b9d93e3713fdcbb3",
       "style": "IPY_MODEL_243eaa616bdb49fe9bfbbb687965af3e",
       "value": "<h5>Queue</h5>"
      }
     },
     "9a2dda626f0e49568f09c45c7c992042": {
      "model_module": "@jupyter-widgets/base",
      "model_module_version": "2.0.0",
      "model_name": "LayoutModel",
      "state": {}
     },
     "a14b92773e484d3a95f92280575d1052": {
      "model_module": "@jupyter-widgets/controls",
      "model_module_version": "2.0.0",
      "model_name": "HTMLModel",
      "state": {
       "layout": "IPY_MODEL_9a2dda626f0e49568f09c45c7c992042",
       "style": "IPY_MODEL_ea27d52c5d384d1c95af83a034a3937c",
       "value": "<h5>Message</h5>"
      }
     },
     "a155f68cb75a40cc9bece01a2733f62e": {
      "model_module": "@jupyter-widgets/controls",
      "model_module_version": "2.0.0",
      "model_name": "HTMLStyleModel",
      "state": {
       "description_width": "",
       "font_size": null,
       "text_color": null
      }
     },
     "adbeaeff15a540fd8cfb09ab242e0577": {
      "model_module": "@jupyter-widgets/controls",
      "model_module_version": "2.0.0",
      "model_name": "ButtonModel",
      "state": {
       "button_style": "primary",
       "description": "Clear",
       "layout": "IPY_MODEL_32a8865864e34ad29b7b83e65df1c666",
       "style": "IPY_MODEL_639c5f72f32e4e619ccca4608495ade7",
       "tooltip": null
      }
     },
     "c517d44276414ce6b0f3c1afbdc71319": {
      "model_module": "@jupyter-widgets/controls",
      "model_module_version": "2.0.0",
      "model_name": "HTMLStyleModel",
      "state": {
       "description_width": "",
       "font_size": null,
       "text_color": null
      }
     },
     "cb20ccbcd79e4c429652025bff6cae08": {
      "model_module": "@jupyter-widgets/base",
      "model_module_version": "2.0.0",
      "model_name": "LayoutModel",
      "state": {
       "width": "145px"
      }
     },
     "daf43e8b5fbd4ddea15a42955b92df50": {
      "model_module": "@jupyter-widgets/base",
      "model_module_version": "2.0.0",
      "model_name": "LayoutModel",
      "state": {
       "margin": "0px 0px 10px 0px"
      }
     },
     "ea27d52c5d384d1c95af83a034a3937c": {
      "model_module": "@jupyter-widgets/controls",
      "model_module_version": "2.0.0",
      "model_name": "HTMLStyleModel",
      "state": {
       "description_width": "",
       "font_size": null,
       "text_color": null
      }
     },
     "ecd4c505b4954dc8ab510a6d2cefe7ad": {
      "model_module": "@jupyter-widgets/controls",
      "model_module_version": "2.0.0",
      "model_name": "HTMLModel",
      "state": {
       "layout": "IPY_MODEL_22156f77e1eb435fae2439f275e6e1be",
       "style": "IPY_MODEL_18ab7cec7c994c919bda4c561a538e55",
       "value": "<h5>Job ID</h5>"
      }
     }
    },
    "version_major": 2,
    "version_minor": 0
   }
  }
 },
 "nbformat": 4,
 "nbformat_minor": 5
}
