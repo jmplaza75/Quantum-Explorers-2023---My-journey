{
 "cells": [
  {
   "cell_type": "markdown",
   "metadata": {},
   "source": [
    "# Problem Set 4 - Introduction to Near-Term Quantum Computing"
   ]
  },
  {
   "cell_type": "markdown",
   "metadata": {},
   "source": [
    "## Overview\n",
    "\n",
    "_Problem set adapted from:_ <br>\n",
    "The University of Tokyo <br>\n",
    "Introduction to Near-Term Quantum Computing<br>\n",
    "\n",
    "<br>\n",
    "\n",
    "**Unit 4: Quantum Teleportation and Superdense Coding**\n",
    "\n",
    "\n",
    "This set of questions is based on the following contents:\n",
    "\n",
    "- [VIDEO: Understanding Quantum Information & Computation | Lesson 4 (John Watrous)](https://youtu.be/GSsElSQgMbU)\n",
    "- [TEXTBOOK: Entanglement in action of Basics of quantum information](https://learning.quantum-computing.ibm.com/course/basics-of-quantum-information/entanglement-in-action#introduction) \n"
   ]
  },
  {
   "cell_type": "markdown",
   "metadata": {},
   "source": [
    "## Quiz 4-1\n",
    "\n",
    "Order the steps below to create the quantum teleportation protocol.\n",
    "\n",
    "\n",
    "Suppose that Alice has a qubit $\\mathsf{A}$, Bob has a qubit $\\mathsf{B}$, $(\\mathsf{A},\\mathsf{B})$ is in the quantum state $\\vert\\phi^+\\rangle$, and Alice has a third qubit $\\mathsf{Q}$ that she wants to send to Bob. "
   ]
  },
  {
   "cell_type": "markdown",
   "metadata": {},
   "source": [
    "### Quiz 4-1\n",
    "\n",
    "1. Alice performs CNOT operation on the pair (A, Q) with Q being the control and A being the target.\n",
    "2. Bob performs the operation based on Alice's information.\n",
    "3. Alice measures both A and Q, with respect to a standard basis measurement in both cases, and transmits the classical outcomes to Bob. \n",
    "4. Alice performs Hadamard operation to Q.\n"
   ]
  },
  {
   "cell_type": "markdown",
   "metadata": {},
   "source": [
    "## Quiz 4-2\n",
    "\n",
    "In the following sentence describing the protocol of the superdense coding, choose the appropriate one for (2-1) and (2-2).\n",
    "\n",
    "Alice holds a qubit $\\mathsf{Y}$, Bob holds a qubit $\\mathsf{X}$, and together the pair $(\\mathsf{X},\\mathsf{Y})$ is in the state $\\vert \\phi^+\\rangle$.\n",
    "If Alice wants to send classical information $ab = 11$ to Bob, she performs (2-1) on her qubit $\\mathsf{Y}$ and sends it to Bob. Therefore, the state of Bob's two qubits $(\\mathsf{X},\\mathsf{Y})$ becomes (2-2). Bob performs a CNOT gate, with $\\mathsf{Y}$ being the control and $\\mathsf{X}$ being the target, and then a Hadamard gate to $\\mathsf{Y}$, then measures $\\mathsf{X}$ to obtain $a=1$ and $\\mathsf{Y}$ to obtain $b=1$."
   ]
  },
  {
   "cell_type": "markdown",
   "metadata": {},
   "source": [
    "### Quiz 4-2\n",
    "\n",
    "\n",
    "Choose the appropriate one for (2-1) \n",
    "\n",
    "\n",
    "\n",
    "a $Z$ gate\n",
    "\n",
    "\n",
    "\n",
    "an $X$ gate\n",
    "\n",
    "\n",
    "\n",
    "a $Z$ gate and an $X$ gate\n",
    "\n",
    "\n",
    "\n",
    "***\n",
    "\n",
    "\n",
    "Choose the appropriate one for (2-2) \n",
    "\n",
    "\n",
    "\n",
    "$\\vert \\phi^+\\rangle$\n",
    "\n",
    "\n",
    "\n",
    "$\\vert \\phi^-\\rangle$\n",
    "\n",
    "\n",
    "\n",
    "$\\vert \\psi^+\\rangle$\n",
    "\n",
    "\n",
    "\n",
    "$\\vert \\psi^-\\rangle$\n"
   ]
  },
  {
   "cell_type": "markdown",
   "metadata": {},
   "source": [
    "## Quiz 4-3\n",
    "\n",
    "In the following sentence describing the CHSH game, choose the appropriate one for (3-1), (3-2), and (3-3).\n",
    "\n",
    "Alice holds a qubit $\\mathsf{A}$, Bob holds a qubit $\\mathsf{B}$, and the two qubits are in the $\\vert\\phi^+\\rangle$ state. If Alice's question is $x=1$, she applies (3-1) to her qubit $\\mathsf{A}$ and measures it. If Bob's question is $y=1$, he applies (3-2) to his qubit $\\mathsf{B}$ and measures it. If the respective measurement results are $a$ and $b$, the probability of $\\operatorname{Pr}(a \\not= b)$ becomes (3-3), and therefore they win with probability of (3-3). That's significantly better than any classical strategy can do for this game."
   ]
  },
  {
   "cell_type": "markdown",
   "metadata": {},
   "source": [
    "### Quiz 4-3\n",
    "\n",
    "\n",
    "Choose the appropriate one for (3-1) \n",
    "\n",
    "\n",
    "$U_{0}$\n",
    "\n",
    "\n",
    "\n",
    "$U_{\\pi/4}$\n",
    "\n",
    "\n",
    "\n",
    "$U_{\\pi/8}$\n",
    "\n",
    "\n",
    "\n",
    "$U_{-\\pi/8}$\n",
    "\n",
    "\n",
    "\n",
    "***\n",
    "\n",
    "Choose the appropriate one for (3-2) \n",
    "\n",
    "\n",
    "\n",
    "$U_{0}$\n",
    "\n",
    "\n",
    "\n",
    "$U_{\\pi/4}$\n",
    "\n",
    "\n",
    "\n",
    "$U_{\\pi/8}$\n",
    "\n",
    "\n",
    "$U_{-\\pi/8}$\n",
    "\n",
    "\n",
    "\n",
    "***\n",
    "\n",
    "\n",
    "Choose the appropriate one for (3-3) \n",
    "\n",
    "\n",
    "\n",
    "$3/4$\n",
    "\n",
    "\n",
    "\n",
    "$\\frac{2-\\sqrt{2}}{4}$\n",
    "\n",
    "\n",
    "\n",
    "$\\frac{2+\\sqrt{2}}{4}$\n",
    "\n"
   ]
  },
  {
   "cell_type": "markdown",
   "metadata": {},
   "source": [
    "## Execution\n",
    "\n",
    "\n",
    "Execute Qiskit code of the lecture notebook.\n",
    "\n",
    "<!-- ::: -->"
   ]
  },
  {
   "cell_type": "markdown",
   "metadata": {},
   "source": [
    "## Answers\n",
    "1) 1, 4, 3, 2 <br>\n",
    "2) Z then X, $\\vert \\psi^-\\rangle$ <br>\n",
    "3) $U_{\\pi/4}$, $U_{-\\pi/8}$, $\\frac{2+\\sqrt{2}}{4}$"
   ]
  }
 ],
 "metadata": {
  "kernelspec": {
   "display_name": "Python 3 (ipykernel)",
   "language": "python",
   "name": "python3"
  },
  "language_info": {
   "codemirror_mode": {
    "name": "ipython",
    "version": 3
   },
   "file_extension": ".py",
   "mimetype": "text/x-python",
   "name": "python",
   "nbconvert_exporter": "python",
   "pygments_lexer": "ipython3",
   "version": "3.10.8"
  },
  "widgets": {
   "application/vnd.jupyter.widget-state+json": {
    "state": {},
    "version_major": 2,
    "version_minor": 0
   }
  }
 },
 "nbformat": 4,
 "nbformat_minor": 4
}
