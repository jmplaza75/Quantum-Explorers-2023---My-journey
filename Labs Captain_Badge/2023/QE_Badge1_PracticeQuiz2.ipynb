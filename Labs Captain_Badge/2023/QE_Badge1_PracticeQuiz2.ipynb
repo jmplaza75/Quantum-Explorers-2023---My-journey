{
 "cells": [
  {
   "cell_type": "markdown",
   "metadata": {},
   "source": [
    "# Problem Set 2 - Introduction to Near-Term Quantum Computing"
   ]
  },
  {
   "cell_type": "markdown",
   "metadata": {},
   "source": [
    "## Overview\n",
    "\n",
    "_Problem set adapted from:_ <br>\n",
    "The University of Tokyo <br>\n",
    "Introduction to Near-Term Quantum Computing<br>\n",
    "\n",
    "<br>\n",
    "\n",
    "**Unit 2: Multiple Systems**\n",
    "\n",
    "\n",
    "This set of questions is based on the following contents:\n",
    "\n",
    "- [VIDEO: Understanding Quantum Information & Computation | Lesson 2 (John Watrous)](https://youtu.be/DfZZS8Spe7U)\n",
    "- [TEXTBOOK: Multiple Systems of Basics of quantum information](https://learning.quantum-computing.ibm.com/course/basics-of-quantum-information/multiple-systems#introduction) \n"
   ]
  },
  {
   "cell_type": "markdown",
   "metadata": {},
   "source": [
    "## Quiz 2-1\n",
    "\n",
    "In which of the following probabilistic states of a pair of compound system $(\\mathsf{X},\\mathsf{Y})$ of systems where $\\mathsf{X}$ and $\\mathsf{Y}$ are both bits, the systems $\\mathsf{X}$ and $\\mathsf{Y}$ are independent?"
   ]
  },
  {
   "cell_type": "markdown",
   "metadata": {},
   "source": [
    "### Quiz 2-1\n",
    "\n",
    "a)\n",
    "\n",
    "$\\frac{1}{3} \\vert 00 \\rangle + \\frac{1}{6} \\vert 01 \\rangle + \\frac{1}{3} \\vert 10 \\rangle + \\frac{1}{6} \\vert 11 \\rangle$\n",
    "\n",
    "b)\n",
    "\n",
    "$\\frac{1}{2} \\vert 00 \\rangle - \\frac{1}{2} \\vert 11 \\rangle $\n",
    "\n",
    "c)\n",
    "\n",
    "$\\frac{1}{2} \\vert 00 \\rangle + \\frac{1}{2} \\vert 11 \\rangle $\n"
   ]
  },
  {
   "cell_type": "markdown",
   "metadata": {},
   "source": [
    "## Quiz 2-2\n",
    "\n",
    "Suppose that the classical state set of $\\mathsf{X}$ is $\\Sigma = \\{0,1\\}$, the classical state set of $\\mathsf{Y}$ is $\\Gamma = \\{1,2,3\\}$, and the probablistic state of $(\\mathsf{X},\\mathsf{Y})$ is\n",
    "\n",
    "$$\n",
    "  \\vert \\psi \\rangle\n",
    "  = \\frac{1}{2}  \\vert 0,1 \\rangle\n",
    "  + \\frac{1}{12} \\vert 0,3 \\rangle\n",
    "  + \\frac{1}{12} \\vert 1,1 \\rangle\n",
    "  + \\frac{1}{6}  \\vert 1,2 \\rangle \n",
    "  + \\frac{1}{6}  \\vert 1,3 \\rangle.\n",
    "$$\n",
    "\n",
    "If only $\\mathsf{Y}$ is measured and the result is 3, which of the following is the probabilistic state of $\\mathsf{X}$?"
   ]
  },
  {
   "cell_type": "markdown",
   "metadata": {},
   "source": [
    "### Quiz 2-2\n",
    "\n",
    "a)\n",
    "\n",
    "$\\frac{1}{2} \\vert 0 \\rangle + \\frac{1}{12} \\vert 1 \\rangle$\n",
    "\n",
    "b)\n",
    "\n",
    "$\\frac{1}{12} \\vert 0 \\rangle + \\frac{1}{6} \\vert 1 \\rangle$\n",
    "\n",
    "c)\n",
    "\n",
    "$\\frac{6}{7} \\vert 0 \\rangle + \\frac{1}{7} \\vert 1 \\rangle$\n",
    "\n",
    "d)\n",
    "\n",
    "$\\frac{1}{3} \\vert 0 \\rangle + \\frac{2}{3} \\vert 1 \\rangle$\n",
    "\n"
   ]
  },
  {
   "cell_type": "markdown",
   "metadata": {},
   "source": [
    "## Quiz 2-3\n",
    "\n",
    "Which of the following is NOT a probablistic operator? "
   ]
  },
  {
   "cell_type": "markdown",
   "metadata": {},
   "source": [
    "### Quiz 2-3\n",
    "\n",
    "a)\n",
    "\n",
    "$\n",
    "\\begin{pmatrix}\n",
    "1 & \\frac{1}{2} & \\frac{1}{2} & 0\\\\\\\\\n",
    "0 & 0 & 0 & 0\\\\\\\\\n",
    "0 & 0 & 0 & 0\\\\\\\\\n",
    "0 & \\frac{1}{2} & \\frac{1}{2} & 1\n",
    "\\end{pmatrix}$\n",
    "\n",
    "b)\n",
    "\n",
    "$\n",
    "\\begin{pmatrix}\n",
    "1 & 0 & 0 & 0\\\\\\\\\n",
    "0 & 0 & 0 & 1\\\\\\\\\n",
    "0 & 0 & 1 & 0\\\\\\\\\n",
    "0 & 1 & 0 & 0\n",
    "\\end{pmatrix}\n",
    "$\n",
    "\n",
    "c)\n",
    "\n",
    "$\n",
    "\\begin{pmatrix}\n",
    "1 & 0 & 0 & 0\\\\\\\\\n",
    "0 & 1 & 0 & 0\\\\\\\\\n",
    "0 & 0 & 0 & 1\\\\\\\\\n",
    "0 & 0 & 1 & 0\n",
    "\\end{pmatrix}\n",
    "$\n",
    "\n",
    "d)\n",
    "\n",
    "$\n",
    "\\begin{pmatrix}\n",
    "1 & 1 & 1 & 0\\\\\\\\\n",
    "0 & 0 & 0 & 0\\\\\\\\\n",
    "0 & 0 & 0 & 0\\\\\\\\\n",
    "0 & 1 & 1 & 1\n",
    "\\end{pmatrix}$\n",
    "\n"
   ]
  },
  {
   "cell_type": "markdown",
   "metadata": {},
   "source": [
    "## Quiz 2-4\n",
    "\n",
    "Which of the following quantum states is incorrect?"
   ]
  },
  {
   "cell_type": "markdown",
   "metadata": {},
   "source": [
    "### Quiz 2-4\n",
    "\n",
    "a)\n",
    "\n",
    "$\\frac{i}{\\sqrt{5}} \\vert 00 \\rangle + \\frac{1}{\\sqrt{5}} \\vert 01\\rangle - \\frac{i}{\\sqrt{5}} \\vert 10\\rangle - \\sqrt{\\frac{2}{5}} \\vert 11\\rangle$\n",
    "\n",
    "b)\n",
    "\n",
    "$\\frac{3}{5} \\vert 00\\rangle - \\frac{4}{5} \\vert 11\\rangle$\n",
    "\n",
    "c)\n",
    "\n",
    "$\\vert 01 \\rangle$\n",
    "\n",
    "d)\n",
    "\n",
    "$\\frac{1}{3} \\vert 00 \\rangle + \\frac{1}{6} \\vert 01 \\rangle + \\frac{2}{3} \\vert 10 \\rangle + \\frac{1}{3} \\vert 11 \\rangle$\n",
    "\n",
    "e)\n",
    "\n",
    "$\\frac{1}{\\sqrt{2}} \\vert 00\\rangle + \\frac{1}{\\sqrt{2}} \\vert 11\\rangle$\n",
    "  \n"
   ]
  },
  {
   "cell_type": "markdown",
   "metadata": {},
   "source": [
    "## Quiz 2-5\n",
    "\n",
    "Which quantum state is equal to \n",
    "\n",
    "$\\frac{1}{\\sqrt{2}} \\vert \\phi^+\\rangle - \\frac{1}{\\sqrt{2}} \\vert \\phi^-\\rangle$ ?"
   ]
  },
  {
   "cell_type": "markdown",
   "metadata": {},
   "source": [
    "### Quiz 2-5\n",
    "\n",
    "a)\n",
    "\n",
    "$\\vert 0 0 \\rangle$\n",
    "\n",
    "b)\n",
    "\n",
    "$\\vert 0 1 \\rangle$\n",
    "\n",
    "c)\n",
    "\n",
    "$\\vert 1 1 \\rangle$\n",
    "\n",
    "d)\n",
    "\n",
    "$\\vert 1 0 \\rangle$\n"
   ]
  },
  {
   "cell_type": "markdown",
   "metadata": {},
   "source": [
    "## Quiz 2-6\n",
    "\n",
    "Suppose the quantum state vector of the compound system of $(\\mathsf{X},\\mathsf{Y})$ of two systems $\\mathsf{X}$ and $\\mathsf{Y}$ is the following\n",
    "\n",
    "$$\n",
    "  \\vert \\psi \\rangle \n",
    "  = \\frac{1}{\\sqrt{6}} \\vert 00 \\rangle\n",
    "  - \\frac{i}{\\sqrt{6}} \\vert 01\\rangle\n",
    "  + \\frac{i}{\\sqrt{2}} \\vert 10\\rangle\n",
    "  + \\frac{1}{\\sqrt{6}} \\vert 11\\rangle\n",
    "$$\n",
    "\n",
    "(where $\\vert a b \\rangle = \\vert a\\rangle_{\\mathsf{X}}\\vert b \\rangle_{\\mathsf{Y}}$).\n",
    "\n",
    "If the system $\\mathsf{Y}$ is measured, what is the probability that the measurement result is 1?"
   ]
  },
  {
   "cell_type": "markdown",
   "metadata": {},
   "source": [
    "### Quiz 2-6\n",
    "\n",
    "a)\n",
    "\n",
    "$\\frac{1}{6}$\n",
    "\n",
    "b)\n",
    "\n",
    "$\\frac{1}{3}$\n",
    "\n",
    "c)\n",
    "\n",
    "$\\frac{1}{\\sqrt{3}}$\n",
    "\n",
    "d)\n",
    "\n",
    "$\\sqrt{\\frac{1}{2}}$\n"
   ]
  },
  {
   "cell_type": "markdown",
   "metadata": {},
   "source": [
    "## Quiz 2-7\n",
    "\n",
    "Suppose the quantum state vector of the compound system of $(\\mathsf{X},\\mathsf{Y})$ of two systems $\\mathsf{X}$ and $\\mathsf{Y}$ is the following\n",
    "\n",
    "$$\n",
    "  \\vert \\psi \\rangle \n",
    "  = \\frac{1}{\\sqrt{6}} \\vert 00 \\rangle\n",
    "  - \\frac{i}{\\sqrt{6}} \\vert 01\\rangle\n",
    "  + \\frac{i}{\\sqrt{2}} \\vert 10\\rangle\n",
    "  + \\frac{1}{\\sqrt{6}} \\vert 11\\rangle\n",
    "$$\n",
    "\n",
    "(where $\\vert a b \\rangle = \\vert a\\rangle_{\\mathsf{X}}\\vert b \\rangle_{\\mathsf{Y}}$).\n",
    "\n",
    "If the system $\\mathsf{Y}$ is measured and its result is 1, what would be the state of $(\\mathsf{X},\\mathsf{Y})$ ?\n"
   ]
  },
  {
   "cell_type": "markdown",
   "metadata": {},
   "source": [
    "### Quiz 2-7\n",
    "\n",
    "a)\n",
    "\n",
    "$\\vert 1\\rangle \\otimes \\biggl(\\sqrt{\\frac{3}{4}} \\vert 0\\rangle +\\frac{i}{\\sqrt{2}} \\vert 1\\rangle\\biggr) $\n",
    "\n",
    "b)\n",
    "\n",
    "$\\vert 1\\rangle \\otimes \\biggl(\\sqrt{\\frac{3}{4}} \\vert 0\\rangle +\\frac{i}{2} \\vert 1\\rangle\\biggr) $\n",
    "\n",
    "c)\n",
    "\n",
    "$\\biggl(-\\frac{i}{\\sqrt{6}} \\vert 0\\rangle +\\frac{1}{\\sqrt{6}} \\vert 1\\rangle\\biggr) \\otimes \\vert 1\\rangle$\n",
    "\n",
    "d)\n",
    "\n",
    "$\\biggl(-\\frac{i}{\\sqrt{2}} \\vert 0\\rangle +\\frac{1}{\\sqrt{2}} \\vert 1\\rangle\\biggr) \\otimes \\vert 1\\rangle$\n"
   ]
  },
  {
   "cell_type": "markdown",
   "metadata": {},
   "source": [
    "## Quiz 2-8\n",
    "\n",
    "Which quantum state will be the result of applying the controlled-X operation, $CX = \\vert 0\\rangle \\langle 0\\vert \\otimes \\mathbb{1}_{\\mathsf{Y}} + \\vert 1\\rangle \\langle 1\\vert \\otimes X$, to $|11 \\rangle$ of the compound system $(\\mathsf{X},\\mathsf{Y})$ ? "
   ]
  },
  {
   "cell_type": "markdown",
   "metadata": {},
   "source": [
    "### Quiz 2-8\n",
    "\n",
    "a)\n",
    "\n",
    "$\\vert 0 0 \\rangle$\n",
    "\n",
    "b)\n",
    "\n",
    "$\\vert 0 1 \\rangle$\n",
    "\n",
    "c)\n",
    "\n",
    "$\\vert 1 0 \\rangle$\n",
    "\n",
    "d)\n",
    "\n",
    "$\\vert 1 1 \\rangle$\n"
   ]
  },
  {
   "cell_type": "markdown",
   "metadata": {},
   "source": [
    "## Quiz 2-9\n",
    "\n",
    "Which quantum state will be the result of applying the controlled-Z operation, $CZ = \n",
    "  \\vert 0\\rangle \\langle 0\\vert \\otimes \\mathbb{1}_{\\mathsf{Y}} + \\vert 1\\rangle \\langle 1\\vert \\otimes Z$, to $|11 \\rangle$ of the compound system $(\\mathsf{X},\\mathsf{Y})$ ? "
   ]
  },
  {
   "cell_type": "markdown",
   "metadata": {},
   "source": [
    "### Quiz 2-9\n",
    "\n",
    "a)\n",
    "\n",
    "-$\\vert 1 1 \\rangle$\n",
    "\n",
    "b)\n",
    "\n",
    "$\\vert 10 \\rangle$\n",
    "\n",
    "c)\n",
    "\n",
    "$\\vert 1 1 \\rangle$\n",
    "\n",
    "d)\n",
    "$\\frac{1}{2} \\vert 00 \\rangle + \\frac{1}{2} \\vert 11 \\rangle$\n",
    "\n"
   ]
  },
  {
   "cell_type": "markdown",
   "metadata": {},
   "source": [
    "## Quiz 2-10\n",
    "\n",
    "Which quantum state will be the result of applying a Toffoli operation, $CCX = \\bigl(\n",
    "    \\vert 00 \\rangle \\langle 00 \\vert \n",
    "    + \\vert 01 \\rangle \\langle 01 \\vert \n",
    "    + \\vert 10 \\rangle \\langle 10 \\vert \\bigr) \\otimes \\mathbb{1}\n",
    "    + \\vert 11 \\rangle \\langle 11 \\vert \\otimes X$, to $|111 \\rangle$?"
   ]
  },
  {
   "cell_type": "markdown",
   "metadata": {},
   "source": [
    "### Quiz 2-10\n",
    "\n",
    "a)\n",
    "\n",
    "$\\vert 111 \\rangle$\n",
    "\n",
    "b)\n",
    "\n",
    "$\\vert 110 \\rangle$\n",
    "\n",
    "c)\n",
    "\n",
    "$\\vert 001 \\rangle$\n",
    "\n",
    "d)\n",
    "\n",
    "$\\frac{1}{\\sqrt{2}} \\vert 000\\rangle + \\frac{1}{\\sqrt{2}} \\vert 111\\rangle$\n"
   ]
  },
  {
   "cell_type": "markdown",
   "metadata": {},
   "source": [
    "## Answers\n",
    "1) a <br>\n",
    "2) d <br>\n",
    "3) d <br>\n",
    "4) d <br>\n",
    "5) c <br>\n",
    "6) b <br>\n",
    "7) d <br>\n",
    "8) c <br>\n",
    "9) a <br>\n",
    "10) b <br>"
   ]
  }
 ],
 "metadata": {
  "kernelspec": {
   "display_name": "Python 3 (ipykernel)",
   "language": "python",
   "name": "python3"
  },
  "language_info": {
   "codemirror_mode": {
    "name": "ipython",
    "version": 3
   },
   "file_extension": ".py",
   "mimetype": "text/x-python",
   "name": "python",
   "nbconvert_exporter": "python",
   "pygments_lexer": "ipython3",
   "version": "3.10.8"
  },
  "widgets": {
   "application/vnd.jupyter.widget-state+json": {
    "state": {},
    "version_major": 2,
    "version_minor": 0
   }
  }
 },
 "nbformat": 4,
 "nbformat_minor": 4
}
