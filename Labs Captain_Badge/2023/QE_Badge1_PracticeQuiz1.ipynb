{
 "cells": [
  {
   "cell_type": "markdown",
   "metadata": {},
   "source": [
    "# Problem Set 1 - Introduction to Near-Term Quantum Computing"
   ]
  },
  {
   "cell_type": "markdown",
   "metadata": {
    "tags": []
   },
   "source": [
    "## Overview\n",
    "\n",
    "_Problem set adapted from:_ <br>\n",
    "The University of Tokyo <br>\n",
    "Introduction to Near-Term Quantum Computing<br>\n",
    "\n",
    "<br>\n",
    "\n",
    "**Unit 1: Welcome to Introduction to Near-Term Quantum Computing!**\n",
    "\n",
    "\n",
    "This set of questions is based on the following contents:\n",
    "\n",
    "- [VIDEO: Understanding Quantum Information and Computation | Lesson 1 (John Watrous)](https://youtu.be/3-c4xJa7Flk)\n",
    "- [TEXTBOOK: Single systems of Basics of quantum information](https://learning.quantum-computing.ibm.com/course/basics-of-quantum-information/single-systems) \n"
   ]
  },
  {
   "cell_type": "markdown",
   "metadata": {},
   "source": [
    "## Quiz 1-1"
   ]
  },
  {
   "cell_type": "markdown",
   "metadata": {},
   "source": [
    "### Quiz 1-1\n",
    "\n",
    "\n",
    "Which of the following is a probability vector?\n",
    "\n",
    "a)\n",
    "\n",
    "$\\begin{pmatrix} \\sqrt{2}\\\\\\\\ 1 - \\sqrt{2} \\end{pmatrix}$\n",
    "\n",
    "b)\n",
    "\n",
    "$\\begin{pmatrix} 0.4 \\\\\\\\ 0.4 \\end{pmatrix}$\n",
    "\n",
    "c)\n",
    "\n",
    "$\\begin{pmatrix} 1 \\\\\\\\ 0 \\\\\\\\ 0 \\end{pmatrix}$\n",
    "\n"
   ]
  },
  {
   "cell_type": "markdown",
   "metadata": {},
   "source": [
    "## Quiz 1-2"
   ]
  },
  {
   "cell_type": "markdown",
   "metadata": {},
   "source": [
    "### Quiz 1-2\n",
    "\n",
    "\n",
    "Which of the following is a quantum state vector? \n",
    "\n",
    "a)\n",
    "\n",
    "$\\begin{pmatrix} \\sqrt{2}\\\\\\\\ 1 - \\sqrt{2} \\end{pmatrix}$\n",
    "\n",
    "b)\n",
    "\n",
    "$\\begin{pmatrix} -\\frac{1+2i}{3} \\\\\\\\ -\\frac{2}{3} \\end{pmatrix}$\n",
    "\n",
    "c)\n",
    "\n",
    "$\\begin{pmatrix} 1 \\\\\\\\ 0 \\\\\\\\ 1 \\end{pmatrix}$\n"
   ]
  },
  {
   "cell_type": "markdown",
   "metadata": {},
   "source": [
    "## Quiz 1-3"
   ]
  },
  {
   "cell_type": "markdown",
   "metadata": {},
   "source": [
    "### Quiz 1-3\n",
    "\n",
    "\n",
    "Which of the following is a deterministic operator?\n",
    "\n",
    "a)\n",
    "\n",
    "$\\begin{pmatrix} 1 & 0 \\\\\\\\ 1 & 0 \\end{pmatrix}$\n",
    "\n",
    "b)\n",
    "\n",
    "$\\begin{pmatrix} 0 & \\frac{1}{2} \\\\\\\\ \\frac{-i}{2} & 0 \\end{pmatrix}$\n",
    "\n",
    "c)\n",
    "\n",
    "$\\begin{pmatrix} 1 & 0 \\\\\\\\ 0 & i \\end{pmatrix}$\n",
    "\n",
    "d)\n",
    "\n",
    "$\\begin{pmatrix} 0 & 0 \\\\\\\\ 1 & 1 \\end{pmatrix}$\n",
    "\n"
   ]
  },
  {
   "cell_type": "markdown",
   "metadata": {},
   "source": [
    "## Quiz 1-4"
   ]
  },
  {
   "cell_type": "markdown",
   "metadata": {},
   "source": [
    "### Quiz 1-4\n",
    "\n",
    "\n",
    "Which of the following is a probabilistic operator? \n",
    "\n",
    "a)\n",
    "\n",
    "$\\begin{pmatrix} 1 & 0 \\\\\\\\ 1 & 0 \\end{pmatrix}$\n",
    "\n",
    "b)\n",
    "\n",
    "$\\begin{pmatrix} \\frac{1}{2} & 0 \\\\\\\\ \\frac{1}{2} & 1 \\end{pmatrix}$\n",
    "\n",
    "c)\n",
    "\n",
    "$\\begin{pmatrix} 1 & 0 \\\\\\\\ 0 & i \\end{pmatrix}$\n",
    "\n",
    "d)\n",
    "\n",
    "$\\begin{pmatrix} 0 & \\frac{1}{2} \\\\\\\\ \\frac{-i}{2} & 0 \\end{pmatrix}$\n"
   ]
  },
  {
   "cell_type": "markdown",
   "metadata": {},
   "source": [
    "## Quiz 1-5"
   ]
  },
  {
   "cell_type": "markdown",
   "metadata": {},
   "source": [
    "### Quiz 1-5\n",
    "\n",
    "\n",
    "Which of the following is unitary?\n",
    "\n",
    "a)\n",
    "\n",
    "$\\begin{pmatrix} 1 & 0 \\\\\\\\ 1 & 0 \\end{pmatrix}$\n",
    "\n",
    "b)\n",
    "\n",
    "$\\begin{pmatrix} 0 & \\frac{1}{2} \\\\\\\\ \\frac{-i}{2} & 0 \\end{pmatrix}$\n",
    "\n",
    "c)\n",
    "\n",
    "$\\begin{pmatrix} 1 & 0 \\\\\\\\ 0 & i \\end{pmatrix}$\n"
   ]
  },
  {
   "cell_type": "markdown",
   "metadata": {},
   "source": [
    "## Quiz 1-6"
   ]
  },
  {
   "cell_type": "markdown",
   "metadata": {},
   "source": [
    "### Quiz 1-6\n",
    "\n",
    "\n",
    "\n",
    "The probabilities of result in 0 and 1 by measuring the plus state or the minus state is same as far as standard basis measurements.\n",
    "\n",
    "\n",
    "\n",
    "Yes\n",
    "\n",
    "\n",
    "\n",
    "No\n",
    "\n"
   ]
  },
  {
   "cell_type": "markdown",
   "metadata": {},
   "source": [
    "## Quiz 1-7"
   ]
  },
  {
   "cell_type": "markdown",
   "metadata": {},
   "source": [
    "### Quiz 1-7\n",
    "\n",
    "\n",
    "\n",
    "Which operation is equal to $ HZH $ ?\n",
    "\n",
    "\n",
    "\n",
    "$X$\n",
    "\n",
    "\n",
    "\n",
    "$Y$\n",
    "\n",
    "\n",
    "\n",
    "$Z$\n",
    "\n",
    "\n",
    "\n",
    "$H$\n",
    "\n"
   ]
  },
  {
   "cell_type": "markdown",
   "metadata": {},
   "source": [
    "## Quiz 1-8"
   ]
  },
  {
   "cell_type": "markdown",
   "metadata": {},
   "source": [
    "### Quiz 1-8\n",
    "\n",
    "\n",
    "\n",
    "Which operation is equal to $ HXH $ ?\n",
    "\n",
    "\n",
    "\n",
    "$X$\n",
    "\n",
    "\n",
    "$Y$\n",
    "\n",
    "\n",
    "$Z$\n",
    "\n",
    "\n",
    "\n",
    "$H$\n",
    "\n"
   ]
  },
  {
   "cell_type": "markdown",
   "metadata": {},
   "source": [
    "## Quiz 1-9"
   ]
  },
  {
   "cell_type": "markdown",
   "metadata": {},
   "source": [
    "### Quiz 1-9\n",
    "\n",
    "\n",
    "What is $ S|-\\rangle$ ?\n",
    "\n",
    "a)\n",
    "\n",
    "$\\frac{1}{\\sqrt{2}}|0\\rangle + \\frac{1}{\\sqrt{2}}|1\\rangle$\n",
    "\n",
    "b)\n",
    "\n",
    "$\\frac{1}{\\sqrt{2}}|0\\rangle -\\frac{1}{\\sqrt{2}}|1\\rangle$\n",
    "\n",
    "c)\n",
    "\n",
    "$\\frac{1}{\\sqrt{2}}|0\\rangle +\\frac{i}{\\sqrt{2}}|1\\rangle$\n",
    "\n",
    "d)\n",
    "\n",
    "$\\frac{1}{\\sqrt{2}}|0\\rangle -\\frac{i}{\\sqrt{2}}|1\\rangle$\n",
    "\n"
   ]
  },
  {
   "cell_type": "markdown",
   "metadata": {},
   "source": [
    "## Quiz 1-10"
   ]
  },
  {
   "cell_type": "markdown",
   "metadata": {},
   "source": [
    "### Quiz 1-10\n",
    "\n",
    "\n",
    "\n",
    "Permutation matrices are the only matrices that can represent both classical and quantum operations.\n",
    "\n",
    "\n",
    "\n",
    "Yes\n",
    "\n",
    "\n",
    "No\n",
    "\n"
   ]
  },
  {
   "cell_type": "markdown",
   "metadata": {},
   "source": [
    "## Answers\n",
    "1) c <br>\n",
    "2) b <br>\n",
    "3) d <br>\n",
    "4) b <br>\n",
    "5) c <br>\n",
    "6) Yes <br>\n",
    "7) X <br>\n",
    "8) Z <br>\n",
    "9) d <br>\n",
    "10) Yes <br>"
   ]
  },
  {
   "cell_type": "code",
   "execution_count": null,
   "metadata": {},
   "outputs": [],
   "source": []
  }
 ],
 "metadata": {
  "kernelspec": {
   "display_name": "Python 3 (ipykernel)",
   "language": "python",
   "name": "python3"
  },
  "language_info": {
   "codemirror_mode": {
    "name": "ipython",
    "version": 3
   },
   "file_extension": ".py",
   "mimetype": "text/x-python",
   "name": "python",
   "nbconvert_exporter": "python",
   "pygments_lexer": "ipython3",
   "version": "3.10.8"
  },
  "widgets": {
   "application/vnd.jupyter.widget-state+json": {
    "state": {},
    "version_major": 2,
    "version_minor": 0
   }
  }
 },
 "nbformat": 4,
 "nbformat_minor": 4
}
